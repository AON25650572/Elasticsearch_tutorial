{
 "cells": [
  {
   "cell_type": "markdown",
   "metadata": {},
   "source": [
    "## IndexとType\n",
    "Elasticsearchに実際にデータを入れていく前にIndexとTypeの違いをまとめます。\n",
    "\n",
    "RDBになぞらえてシンプルに\n",
    "\n",
    "+ Index=DB\n",
    "+ Type=Table\n",
    "\n",
    "と説明されることがあるらしいですが、正確には違うらしいです。\n",
    "\n",
    "とりあえずはそんな感じの認識で進めます。"
   ]
  },
  {
   "cell_type": "markdown",
   "metadata": {},
   "source": [
    "進めてええんかい（ツッコミ）"
   ]
  },
  {
   "cell_type": "markdown",
   "metadata": {},
   "source": [
    "細かい意味は以下のページを参考にしてください\n",
    "\n",
    "- [Index vs. Type | Elastic](https://www.elastic.co/jp/blog/index-vs-type)\n",
    "- [データ構造について – AWSで始めるElasticSearch(4) ｜ Developers.IO](https://dev.classmethod.jp/cloud/aws/use-elasticsearch-4-data-structure/)"
   ]
  },
  {
   "cell_type": "markdown",
   "metadata": {},
   "source": [
    "## PythonからElasticsearchを利用してみる"
   ]
  },
  {
   "cell_type": "markdown",
   "metadata": {},
   "source": [
    "まあ、インストール"
   ]
  },
  {
   "cell_type": "code",
   "execution_count": 1,
   "metadata": {},
   "outputs": [
    {
     "name": "stdout",
     "output_type": "stream",
     "text": [
      "Requirement already satisfied: elasticsearch in /home/naoaki/anaconda3/lib/python3.8/site-packages (7.12.0)\n",
      "Requirement already satisfied: certifi in /home/naoaki/anaconda3/lib/python3.8/site-packages (from elasticsearch) (2020.6.20)\n",
      "Requirement already satisfied: urllib3<2,>=1.21.1 in /home/naoaki/anaconda3/lib/python3.8/site-packages (from elasticsearch) (1.25.11)\n"
     ]
    }
   ],
   "source": [
    "! pip install elasticsearch"
   ]
  },
  {
   "cell_type": "markdown",
   "metadata": {},
   "source": [
    "### Index():ドキュメントの追加、更新\n",
    "適当にスニペットを書いていきます\n",
    "```Python\n",
    "es = Elasticsearch()\n",
    "```\n",
    "で特にオプションを記述しなければ、localhost:9200を見に行きます"
   ]
  },
  {
   "cell_type": "markdown",
   "metadata": {},
   "source": [
    "index()メソッドではドキュメントの追加、更新ができます。\n",
    "\n",
    "この時点で指定したインデックス、タイプが無ければ自動で作成されます。"
   ]
  },
  {
   "cell_type": "markdown",
   "metadata": {},
   "source": [
    "pythonで読む前にサーバは起動しておく必要があるみたい"
   ]
  },
  {
   "cell_type": "code",
   "execution_count": 2,
   "metadata": {},
   "outputs": [
    {
     "name": "stderr",
     "output_type": "stream",
     "text": [
      "/home/naoaki/anaconda3/lib/python3.8/site-packages/elasticsearch/connection/base.py:200: ElasticsearchWarning: [types removal] Specifying types in document index requests is deprecated, use the typeless endpoints instead (/{index}/_doc/{id}, /{index}/_doc, or /{index}/_create/{id}).\n",
      "  warnings.warn(message, category=ElasticsearchWarning)\n"
     ]
    },
    {
     "data": {
      "text/plain": [
       "{'_index': 'my-index',\n",
       " '_type': 'test-type',\n",
       " '_id': 'jVZggHgBtsqmUzTO1MsR',\n",
       " '_version': 1,\n",
       " 'result': 'created',\n",
       " '_shards': {'total': 2, 'successful': 1, 'failed': 0},\n",
       " '_seq_no': 0,\n",
       " '_primary_term': 1}"
      ]
     },
     "execution_count": 2,
     "metadata": {},
     "output_type": "execute_result"
    }
   ],
   "source": [
    "from elasticsearch import Elasticsearch\n",
    "\n",
    "es = Elasticsearch()\n",
    "\n",
    "es.index(index=\"my-index\", doc_type=\"test-type\", body={\"key\": \"value\"})"
   ]
  },
  {
   "cell_type": "markdown",
   "metadata": {},
   "source": [
    "これでmy-indexというインデックスにtest-typeというタイプで{\"key\": \"value\"}というドキュメントが作成されました"
   ]
  },
  {
   "cell_type": "markdown",
   "metadata": {},
   "source": [
    "idを指定してドキュメントを作成することも可能"
   ]
  },
  {
   "cell_type": "code",
   "execution_count": 3,
   "metadata": {},
   "outputs": [
    {
     "data": {
      "text/plain": [
       "{'_index': 'my-index',\n",
       " '_type': 'test-type',\n",
       " '_id': '1',\n",
       " '_version': 1,\n",
       " 'result': 'created',\n",
       " '_shards': {'total': 2, 'successful': 1, 'failed': 0},\n",
       " '_seq_no': 1,\n",
       " '_primary_term': 1}"
      ]
     },
     "execution_count": 3,
     "metadata": {},
     "output_type": "execute_result"
    }
   ],
   "source": [
    "es.index(index=\"my-index\", doc_type=\"test-type\", id=1,  body={\"key\": \"value1\"})"
   ]
  },
  {
   "cell_type": "markdown",
   "metadata": {},
   "source": [
    "### get():ドキュメントを取得する\n",
    "このようにインデックス、タイプ、id、を指定することで登録済みのドキュメントを取得できる"
   ]
  },
  {
   "cell_type": "code",
   "execution_count": 4,
   "metadata": {},
   "outputs": [
    {
     "name": "stderr",
     "output_type": "stream",
     "text": [
      "/home/naoaki/anaconda3/lib/python3.8/site-packages/elasticsearch/connection/base.py:200: ElasticsearchWarning: [types removal] Specifying types in document get requests is deprecated, use the /{index}/_doc/{id} endpoint instead.\n",
      "  warnings.warn(message, category=ElasticsearchWarning)\n"
     ]
    },
    {
     "data": {
      "text/plain": [
       "{'_index': 'my-index',\n",
       " '_type': 'test-type',\n",
       " '_id': '1',\n",
       " '_version': 1,\n",
       " '_seq_no': 1,\n",
       " '_primary_term': 1,\n",
       " 'found': True,\n",
       " '_source': {'key': 'value1'}}"
      ]
     },
     "execution_count": 4,
     "metadata": {},
     "output_type": "execute_result"
    }
   ],
   "source": [
    "es.get(index=\"my-index\", doc_type=\"test-type\", id=1)"
   ]
  },
  {
   "cell_type": "markdown",
   "metadata": {},
   "source": [
    "### search():ドキュメントの検索\n",
    "適当にドキュメントを三つぐらい追加しておきます"
   ]
  },
  {
   "cell_type": "code",
   "execution_count": 6,
   "metadata": {},
   "outputs": [
    {
     "data": {
      "text/plain": [
       "{'_index': 'my-index',\n",
       " '_type': 'test-type',\n",
       " '_id': '3',\n",
       " '_version': 1,\n",
       " 'result': 'created',\n",
       " '_shards': {'total': 2, 'successful': 1, 'failed': 0},\n",
       " '_seq_no': 5,\n",
       " '_primary_term': 1}"
      ]
     },
     "execution_count": 6,
     "metadata": {},
     "output_type": "execute_result"
    }
   ],
   "source": [
    "es.index(index=\"my-index\", doc_type=\"test-type\", id=1, body={\"key\":\"value1\"})\n",
    "es.index(index=\"my-index\", doc_type=\"test-type\", id=2, body={\"key\":\"value2\"})\n",
    "es.index(index=\"my-index\", doc_type=\"test-type\", id=3, body={\"key\":\"value3\"})"
   ]
  },
  {
   "cell_type": "markdown",
   "metadata": {},
   "source": [
    "検索するためにはインデックスとクエリを指定します\n",
    "\n",
    "クエリにmatch_allとすれば全権取得できます"
   ]
  },
  {
   "cell_type": "code",
   "execution_count": 7,
   "metadata": {},
   "outputs": [
    {
     "data": {
      "text/plain": [
       "{'took': 2287,\n",
       " 'timed_out': False,\n",
       " '_shards': {'total': 1, 'successful': 1, 'skipped': 0, 'failed': 0},\n",
       " 'hits': {'total': {'value': 4, 'relation': 'eq'},\n",
       "  'max_score': 1.0,\n",
       "  'hits': [{'_index': 'my-index',\n",
       "    '_type': 'test-type',\n",
       "    '_id': 'jVZggHgBtsqmUzTO1MsR',\n",
       "    '_score': 1.0,\n",
       "    '_source': {'key': 'value'}},\n",
       "   {'_index': 'my-index',\n",
       "    '_type': 'test-type',\n",
       "    '_id': '1',\n",
       "    '_score': 1.0,\n",
       "    '_source': {'key': 'value1'}},\n",
       "   {'_index': 'my-index',\n",
       "    '_type': 'test-type',\n",
       "    '_id': '2',\n",
       "    '_score': 1.0,\n",
       "    '_source': {'key': 'value2'}},\n",
       "   {'_index': 'my-index',\n",
       "    '_type': 'test-type',\n",
       "    '_id': '3',\n",
       "    '_score': 1.0,\n",
       "    '_source': {'key': 'value3'}}]}}"
      ]
     },
     "execution_count": 7,
     "metadata": {},
     "output_type": "execute_result"
    }
   ],
   "source": [
    "es.search(index=\"my-index\", body={\"query\": {\"match_all\": {}}})"
   ]
  },
  {
   "cell_type": "markdown",
   "metadata": {},
   "source": [
    "このように条件を付ければフィルターをかけることができます"
   ]
  },
  {
   "cell_type": "code",
   "execution_count": 8,
   "metadata": {},
   "outputs": [
    {
     "data": {
      "text/plain": [
       "{'took': 65,\n",
       " 'timed_out': False,\n",
       " '_shards': {'total': 1, 'successful': 1, 'skipped': 0, 'failed': 0},\n",
       " 'hits': {'total': {'value': 1, 'relation': 'eq'},\n",
       "  'max_score': 0.87546873,\n",
       "  'hits': [{'_index': 'my-index',\n",
       "    '_type': 'test-type',\n",
       "    '_id': '1',\n",
       "    '_score': 0.87546873,\n",
       "    '_source': {'key': 'value1'}}]}}"
      ]
     },
     "execution_count": 8,
     "metadata": {},
     "output_type": "execute_result"
    }
   ],
   "source": [
    "es.search(index=\"my-index\", body={\"query\": {\"match\": {\"key\":\"value1\"}}})"
   ]
  },
  {
   "cell_type": "code",
   "execution_count": null,
   "metadata": {},
   "outputs": [],
   "source": []
  }
 ],
 "metadata": {
  "kernelspec": {
   "display_name": "Python 3",
   "language": "python",
   "name": "python3"
  },
  "language_info": {
   "codemirror_mode": {
    "name": "ipython",
    "version": 3
   },
   "file_extension": ".py",
   "mimetype": "text/x-python",
   "name": "python",
   "nbconvert_exporter": "python",
   "pygments_lexer": "ipython3",
   "version": "3.8.5"
  }
 },
 "nbformat": 4,
 "nbformat_minor": 4
}
