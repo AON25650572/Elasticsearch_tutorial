{
 "cells": [
  {
   "cell_type": "markdown",
   "metadata": {},
   "source": [
    "## IndexとType\n",
    "Elasticsearchに実際にデータを入れていく前にIndexとTypeの違いをまとめます。\n",
    "\n",
    "RDBになぞらえてシンプルに\n",
    "\n",
    "+ Index=DB\n",
    "+ Type=Table\n",
    "\n",
    "と説明されることがあるらしいですが、正確には違うらしいです。\n",
    "\n",
    "とりあえずはそんな感じの認識で進めます。"
   ]
  },
  {
   "cell_type": "markdown",
   "metadata": {},
   "source": [
    "進めてええんかい（ツッコミ）"
   ]
  },
  {
   "cell_type": "markdown",
   "metadata": {},
   "source": [
    "細かい意味は以下のページを参考にしてください\n",
    "\n",
    "- [Index vs. Type | Elastic](https://www.elastic.co/jp/blog/index-vs-type)\n",
    "- [データ構造について – AWSで始めるElasticSearch(4) ｜ Developers.IO](https://dev.classmethod.jp/cloud/aws/use-elasticsearch-4-data-structure/)"
   ]
  },
  {
   "cell_type": "markdown",
   "metadata": {},
   "source": [
    "## PythonからElasticsearchを利用してみる"
   ]
  },
  {
   "cell_type": "markdown",
   "metadata": {},
   "source": [
    "まあ、インストール"
   ]
  },
  {
   "cell_type": "code",
   "execution_count": 1,
   "metadata": {},
   "outputs": [
    {
     "name": "stdout",
     "output_type": "stream",
     "text": [
      "Collecting elasticsearch\n",
      "  Downloading elasticsearch-7.12.0-py2.py3-none-any.whl (334 kB)\n",
      "\u001b[K     |████████████████████████████████| 334 kB 2.4 MB/s eta 0:00:01\n",
      "\u001b[?25hRequirement already satisfied: urllib3<2,>=1.21.1 in /home/naoaki/anaconda3/lib/python3.8/site-packages (from elasticsearch) (1.25.11)\n",
      "Requirement already satisfied: certifi in /home/naoaki/anaconda3/lib/python3.8/site-packages (from elasticsearch) (2020.6.20)\n",
      "Installing collected packages: elasticsearch\n",
      "Successfully installed elasticsearch-7.12.0\n"
     ]
    }
   ],
   "source": [
    "! pip install elasticsearch"
   ]
  },
  {
   "cell_type": "markdown",
   "metadata": {},
   "source": [
    "### Index():ドキュメントの追加、更新\n",
    "適当にスニペットを描いていきます\n",
    "```Python\n",
    "es = Elasticsearch()\n",
    "```\n",
    "で特にオプションを記述しなければ、localhost:9200を見に行きます"
   ]
  },
  {
   "cell_type": "code",
   "execution_count": null,
   "metadata": {},
   "outputs": [],
   "source": []
  }
 ],
 "metadata": {
  "kernelspec": {
   "display_name": "Python 3",
   "language": "python",
   "name": "python3"
  },
  "language_info": {
   "codemirror_mode": {
    "name": "ipython",
    "version": 3
   },
   "file_extension": ".py",
   "mimetype": "text/x-python",
   "name": "python",
   "nbconvert_exporter": "python",
   "pygments_lexer": "ipython3",
   "version": "3.8.5"
  }
 },
 "nbformat": 4,
 "nbformat_minor": 4
}
